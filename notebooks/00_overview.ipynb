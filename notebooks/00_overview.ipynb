{
 "cells": [
  {
   "cell_type": "markdown",
   "id": "17220a7d-6553-44e0-bcd6-2ab26bb9b0e2",
   "metadata": {},
   "source": [
    "# Introduction\n",
    "\n",
    "\n",
    "Python has a very mature eco-system for scientific computing as well as data visualization.\n",
    "Below is a snapshot from [pyviz](https://pyviz.org/overviews/index.html) of some of the popular visualization toolkit that are available in Python\n",
    "\n",
    "![overview](https://rougier.github.io/python-visualization-landscape/landscape-colors.png)"
   ]
  },
  {
   "cell_type": "markdown",
   "id": "c95019d6-7be9-4064-8716-beea57ced691",
   "metadata": {},
   "source": [
    "You can also find more detailed information about the status of each library curated by `pyviz` as shown below."
   ]
  },
  {
   "cell_type": "code",
   "execution_count": 3,
   "id": "c89612de-6284-409c-b57b-aadae7d8a344",
   "metadata": {
    "jupyter": {
     "source_hidden": true
    },
    "tags": []
   },
   "outputs": [
    {
     "data": {
      "text/html": [
       "\n",
       "        <iframe\n",
       "            width=\"1000\"\n",
       "            height=\"400\"\n",
       "            src=\"https://pyviz.org/tools.html#core\"\n",
       "            frameborder=\"0\"\n",
       "            allowfullscreen\n",
       "            \n",
       "        ></iframe>\n",
       "        "
      ],
      "text/plain": [
       "<IPython.lib.display.IFrame at 0x7f9dbe1adc30>"
      ]
     },
     "execution_count": 3,
     "metadata": {},
     "output_type": "execute_result"
    }
   ],
   "source": [
    "from IPython.display import IFrame\n",
    "\n",
    "IFrame(src=\"https://pyviz.org/tools.html#core\", width=1000, height=400)"
   ]
  },
  {
   "cell_type": "code",
   "execution_count": null,
   "id": "28c96aad-b9e5-4b9e-8ea2-64b21f4cade9",
   "metadata": {},
   "outputs": [],
   "source": []
  }
 ],
 "metadata": {
  "kernelspec": {
   "display_name": "Python 3 (ipykernel)",
   "language": "python",
   "name": "python3"
  },
  "language_info": {
   "codemirror_mode": {
    "name": "ipython",
    "version": 3
   },
   "file_extension": ".py",
   "mimetype": "text/x-python",
   "name": "python",
   "nbconvert_exporter": "python",
   "pygments_lexer": "ipython3",
   "version": "3.10.6"
  }
 },
 "nbformat": 4,
 "nbformat_minor": 5
}
