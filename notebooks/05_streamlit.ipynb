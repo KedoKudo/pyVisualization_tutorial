{
 "cells": [
  {
   "cell_type": "markdown",
   "id": "ad7fb7a4-6a92-4577-8c4a-062f6b69e7cf",
   "metadata": {},
   "source": [
    "Streamlit\n",
    "=========\n",
    "\n",
    "A streamlined framework to allow quick development of dashboard for multiple platforms."
   ]
  },
  {
   "cell_type": "code",
   "execution_count": 5,
   "id": "00c42b54-5c61-4e04-b740-e84ddbfab622",
   "metadata": {
    "jupyter": {
     "source_hidden": true
    },
    "tags": []
   },
   "outputs": [
    {
     "data": {
      "text/html": [
       "\n",
       "<iframe width=\"560\" height=\"315\" src=\"https://s3-us-west-2.amazonaws.com/assets.streamlit.io/videos/hero-video.mp4\" title=\"YouTube video player\" frameborder=\"0\" allow=\"accelerometer; autoplay; clipboard-write; encrypted-media; gyroscope; picture-in-picture\" allowfullscreen></iframe>\n"
      ],
      "text/plain": [
       "<IPython.core.display.HTML object>"
      ]
     },
     "metadata": {},
     "output_type": "display_data"
    }
   ],
   "source": [
    "%%html\n",
    "\n",
    "<iframe width=\"560\" height=\"315\" src=\"https://s3-us-west-2.amazonaws.com/assets.streamlit.io/videos/hero-video.mp4\" title=\"YouTube video player\" frameborder=\"0\" allow=\"accelerometer; autoplay; clipboard-write; encrypted-media; gyroscope; picture-in-picture\" allowfullscreen></iframe>"
   ]
  },
  {
   "cell_type": "markdown",
   "id": "218c5eee-1b09-4369-95f2-a4b4b7661c41",
   "metadata": {},
   "source": [
    "see the simple juliaset example create with `streamlit` and `numba`.\n",
    "\n",
    "```bash\n",
    "streamlit run 05_streamlit.py\n",
    "```"
   ]
  },
  {
   "cell_type": "code",
   "execution_count": 6,
   "id": "e044091a-1196-4dfe-a17c-eb3066c8972f",
   "metadata": {},
   "outputs": [],
   "source": [
    "# %load 05_streamlit.py\n",
    "#!/usr/bin/env python\n",
    "\n",
    "\n",
    "import numba\n",
    "import matplotlib.pyplot as plt\n",
    "import streamlit as st\n",
    "import numpy as np\n",
    "from matplotlib import cm\n",
    "\n",
    "# MACRO\n",
    "IMGSIZE = 512\n",
    "CONSTC = complex(-0.8, 0.156)\n",
    "ZABSMAX = 10\n",
    "ITERMAX = 200\n",
    "\n",
    "# Build the img\n",
    "@numba.jit(nopython=True)\n",
    "def juliaset(z, max_iter=ITERMAX, c=CONSTC):\n",
    "    img = np.zeros(z.shape)\n",
    "    for i in range(max_iter):\n",
    "        z = z**2 + c\n",
    "        img = np.where(np.abs(z) < ZABSMAX, i, img)\n",
    "    return img/max_iter\n",
    "\n",
    "def draw(max_iter=ITERMAX, scale=1.0, c=CONSTC, img_size=IMGSIZE, cmap='jet'):\n",
    "    # build starting z\n",
    "    r = np.linspace(-0.5*scale, 0.5*scale, img_size)\n",
    "    i = np.linspace(-0.5*scale, 0.5*scale, img_size)\n",
    "    i, r = np.meshgrid(i, r, sparse=False, indexing='xy')\n",
    "    z = r + 1j*i\n",
    "    # compute julia set\n",
    "    img = juliaset(z, max_iter=max_iter, c=c)\n",
    "    # plot\n",
    "    fig, ax = plt.subplots()\n",
    "    ims = ax.imshow(img, interpolation='nearest', cmap=cmap)\n",
    "    plt.colorbar(ims)\n",
    "    ax.set_xticks([])\n",
    "    ax.set_yticks([])\n",
    "    return fig\n",
    "\n",
    "# Header\n",
    "st.title(\"Julia Set Visualizer\")\n",
    "st.latex(\"Z = Z^2 + C\")\n",
    "# Control\n",
    "scale = st.sidebar.slider(label=\"Zoom\", min_value=1e-3, max_value=1.0, value=0.1)\n",
    "creal = st.number_input(label=\"C.real\", min_value=-2.0, max_value=2.0, value=CONSTC.real)\n",
    "cimag = st.number_input(label=\"C.imag\", min_value=-2.0, max_value=2.0, value=CONSTC.imag)\n",
    "cmap = st.selectbox(\n",
    "    label=\"Color Map\",\n",
    "    options=[cmap for cmap in cm.cmaps_listed.keys() if not cmap.endswith(\"_r\")],\n",
    "    index=0,\n",
    ")\n",
    "# Display\n",
    "st.pyplot(draw(scale=scale, c=complex(creal, cimag), cmap=cmap))\n"
   ]
  },
  {
   "cell_type": "code",
   "execution_count": null,
   "id": "9157cc5b-9f4c-4072-b78a-a69f7b34c84c",
   "metadata": {},
   "outputs": [],
   "source": []
  }
 ],
 "metadata": {
  "kernelspec": {
   "display_name": "Python 3 (ipykernel)",
   "language": "python",
   "name": "python3"
  },
  "language_info": {
   "codemirror_mode": {
    "name": "ipython",
    "version": 3
   },
   "file_extension": ".py",
   "mimetype": "text/x-python",
   "name": "python",
   "nbconvert_exporter": "python",
   "pygments_lexer": "ipython3",
   "version": "3.10.6"
  }
 },
 "nbformat": 4,
 "nbformat_minor": 5
}
